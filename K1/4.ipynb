{
 "cells": [
  {
   "cell_type": "code",
   "execution_count": 1,
   "metadata": {},
   "outputs": [],
   "source": [
    "alphabet = ['a','b','c','d','e','f','g','h','i','j','k','l','m','n','o','p','q','r','s','t','u','v','w','x','y','z','æ','ø','å']\n",
    "cipher = \"YÆVFB VBVFR ÅVBV\".replace(\" \", \"\").lower()"
   ]
  },
  {
   "cell_type": "code",
   "execution_count": 2,
   "metadata": {},
   "outputs": [],
   "source": [
    "def char_to_int(char):\n",
    "    for i in range(len(alphabet)):\n",
    "        if char == alphabet[i]: return i\n",
    "    return -1\n",
    "\n",
    "def str_to_int_array(str):\n",
    "    int_array = []\n",
    "    for char in str:\n",
    "        int_array.append(char_to_int(char))\n",
    "    return int_array\n",
    "\n",
    "def decrypt_shift_cipher(c, k):\n",
    "    res = []\n",
    "    for i in c:\n",
    "        res.append((i-k)%len(alphabet))\n",
    "    return res\n",
    "\n",
    "def int_array_to_str(int_array):\n",
    "    str = \"\"\n",
    "    for i in int_array:\n",
    "        str += alphabet[i]\n",
    "    return str"
   ]
  },
  {
   "cell_type": "code",
   "execution_count": 3,
   "metadata": {},
   "outputs": [
    {
     "name": "stdout",
     "output_type": "stream",
     "text": [
      "k: 0, decrypted text: yævfbvbvfråvbv\n",
      "k: 1, decrypted text: xzueauaueqøuau\n",
      "k: 2, decrypted text: wytdåtåtdpætåt\n",
      "k: 3, decrypted text: vxscøsøscozsøs\n",
      "k: 4, decrypted text: uwrbærærbnyrær\n",
      "k: 5, decrypted text: tvqazqzqamxqzq\n",
      "k: 6, decrypted text: supåypypålwpyp\n",
      "k: 7, decrypted text: rtoøxoxoøkvoxo\n",
      "k: 8, decrypted text: qsnæwnwnæjunwn\n",
      "k: 9, decrypted text: prmzvmvmzitmvm\n",
      "k: 10, decrypted text: oqlyululyhslul\n",
      "k: 11, decrypted text: npkxtktkxgrktk\n",
      "k: 12, decrypted text: mojwsjsjwfqjsj\n",
      "k: 13, decrypted text: lnivririvepiri\n",
      "k: 14, decrypted text: kmhuqhqhudohqh\n",
      "k: 15, decrypted text: jlgtpgpgtcngpg\n",
      "k: 16, decrypted text: ikfsofofsbmfof\n",
      "k: 17, decrypted text: hjerneneralene\n",
      "k: 18, decrypted text: gidqmdmdqåkdmd\n",
      "k: 19, decrypted text: fhcplclcpøjclc\n",
      "k: 20, decrypted text: egbokbkboæibkb\n",
      "k: 21, decrypted text: dfanjajanzhaja\n",
      "k: 22, decrypted text: ceåmiåiåmygåiå\n",
      "k: 23, decrypted text: bdølhøhølxføhø\n",
      "k: 24, decrypted text: acækgægækweægæ\n",
      "k: 25, decrypted text: åbzjfzfzjvdzfz\n",
      "k: 26, decrypted text: øayieyeyiucyey\n",
      "k: 27, decrypted text: æåxhdxdxhtbxdx\n",
      "k: 28, decrypted text: zøwgcwcwgsawcw\n"
     ]
    }
   ],
   "source": [
    "if __name__ == '__main__':\n",
    "    cipher_int_array = str_to_int_array(cipher)\n",
    "    for k in range(len(alphabet)):\n",
    "        print(f\"k: {k}, decrypted text: {int_array_to_str(decrypt_shift_cipher(cipher_int_array, k))}\")"
   ]
  },
  {
   "cell_type": "markdown",
   "metadata": {},
   "source": [
    "Her kan det ses ut til at 17 er krypteringsnøkkelen her, da det er den eneste som gir en meningsfull output.\n",
    "Her ses det \"Hjernen er alene\"."
   ]
  }
 ],
 "metadata": {
  "kernelspec": {
   "display_name": "Python 3.10.6 64-bit",
   "language": "python",
   "name": "python3"
  },
  "language_info": {
   "codemirror_mode": {
    "name": "ipython",
    "version": 3
   },
   "file_extension": ".py",
   "mimetype": "text/x-python",
   "name": "python",
   "nbconvert_exporter": "python",
   "pygments_lexer": "ipython3",
   "version": "3.10.6"
  },
  "orig_nbformat": 4,
  "vscode": {
   "interpreter": {
    "hash": "916dbcbb3f70747c44a77c7bcd40155683ae19c65e1c03b4aa3499c5328201f1"
   }
  }
 },
 "nbformat": 4,
 "nbformat_minor": 2
}
