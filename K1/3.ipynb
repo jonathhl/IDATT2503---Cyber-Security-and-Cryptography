{
 "cells": [
  {
   "cell_type": "code",
   "execution_count": 16,
   "metadata": {},
   "outputs": [],
   "source": [
    "import math\n",
    "\n",
    "alphabet = ['a', 'b', 'c', 'd', 'e', 'f', 'g', 'h', 'i', 'j', 'k', 'l', 'm', 'n', 'o', 'p', 'q', 'r', 's', 't', 'u', 'v', 'w', 'x', 'y', 'z', 'æ', 'ø', 'å']"
   ]
  },
  {
   "cell_type": "markdown",
   "metadata": {},
   "source": [
    "Oppgave 3 a)"
   ]
  },
  {
   "cell_type": "code",
   "execution_count": 17,
   "metadata": {},
   "outputs": [
    {
     "name": "stdout",
     "output_type": "stream",
     "text": [
      "f(0) = 24 = a => Y\n",
      "f(1) = 6 = b => G\n",
      "f(2) = 17 = c => R\n",
      "f(3) = 28 = d => Å\n",
      "f(4) = 10 = e => K\n",
      "f(5) = 21 = f => V\n",
      "f(6) = 3 = g => D\n",
      "f(7) = 14 = h => O\n",
      "f(8) = 25 = i => Z\n",
      "f(9) = 7 = j => H\n",
      "f(10) = 18 = k => S\n",
      "f(11) = 0 = l => A\n",
      "f(12) = 11 = m => L\n",
      "f(13) = 22 = n => W\n",
      "f(14) = 4 = o => E\n",
      "f(15) = 15 = p => P\n",
      "f(16) = 26 = q => Æ\n",
      "f(17) = 8 = r => I\n",
      "f(18) = 19 = s => T\n",
      "f(19) = 1 = t => B\n",
      "f(20) = 12 = u => M\n",
      "f(21) = 23 = v => X\n",
      "f(22) = 5 = w => F\n",
      "f(23) = 16 = x => Q\n",
      "f(24) = 27 = y => Ø\n",
      "f(25) = 9 = z => J\n",
      "f(26) = 20 = æ => U\n",
      "f(27) = 2 = ø => C\n",
      "f(28) = 13 = å => N\n"
     ]
    }
   ],
   "source": [
    "def chiffer_func(x):\n",
    "    return (11*x-5)%29\n",
    "\n",
    "for i in range(len(alphabet)):\n",
    "    print(f\"f({i}) = {chiffer_func(i)} = {alphabet[i]} => {str(alphabet[chiffer_func(i)]).upper()}\")"
   ]
  },
  {
   "cell_type": "markdown",
   "metadata": {},
   "source": [
    "b) Funksjonen er e permutasjon av Z (mengden) da det skjer ombytting av bokstavene i rekkefølge. Det skjer også med alle bokstavene i hele mengden, så er ingen tvil om permutasjon her."
   ]
  },
  {
   "cell_type": "markdown",
   "metadata": {},
   "source": [
    "c)"
   ]
  },
  {
   "cell_type": "code",
   "execution_count": 25,
   "metadata": {},
   "outputs": [
    {
     "name": "stdout",
     "output_type": "stream",
     "text": [
      "f⁻1(0) = 11 = a => L\n",
      "f⁻1(1) = 19 = b => T\n",
      "f⁻1(2) = 27 = c => Ø\n",
      "f⁻1(3) = 6 = d => G\n",
      "f⁻1(4) = 14 = e => O\n",
      "f⁻1(5) = 22 = f => W\n",
      "f⁻1(6) = 1 = g => B\n",
      "f⁻1(7) = 9 = h => J\n",
      "f⁻1(8) = 17 = i => R\n",
      "f⁻1(9) = 25 = j => Z\n",
      "f⁻1(10) = 4 = k => E\n",
      "f⁻1(11) = 12 = l => M\n",
      "f⁻1(12) = 20 = m => U\n",
      "f⁻1(13) = 28 = n => Å\n",
      "f⁻1(14) = 7 = o => H\n",
      "f⁻1(15) = 15 = p => P\n",
      "f⁻1(16) = 23 = q => X\n",
      "f⁻1(17) = 2 = r => C\n",
      "f⁻1(18) = 10 = s => K\n",
      "f⁻1(19) = 18 = t => S\n",
      "f⁻1(20) = 26 = u => Æ\n",
      "f⁻1(21) = 5 = v => F\n",
      "f⁻1(22) = 13 = w => N\n",
      "f⁻1(23) = 21 = x => V\n",
      "f⁻1(24) = 0 = y => A\n",
      "f⁻1(25) = 8 = z => I\n",
      "f⁻1(26) = 16 = æ => Q\n",
      "f⁻1(27) = 24 = ø => Y\n",
      "f⁻1(28) = 3 = å => D\n"
     ]
    }
   ],
   "source": [
    "def inverse_chiffer_func(y):\n",
    "    return (8*y+11)%29\n",
    "\n",
    "for i in range(len(alphabet)):\n",
    "    print(f\"f⁻1({i}) = {inverse_chiffer_func(i)} = {alphabet[i]} => {str(alphabet[inverse_chiffer_func(i)]).upper()}\")"
   ]
  },
  {
   "cell_type": "markdown",
   "metadata": {},
   "source": [
    "d)"
   ]
  },
  {
   "cell_type": "code",
   "execution_count": 46,
   "metadata": {},
   "outputs": [
    {
     "name": "stdout",
     "output_type": "stream",
     "text": [
      "Original: a, Encrypted: Y\n",
      "Original: l, Encrypted: A\n",
      "Original: i, Encrypted: Z\n",
      "Original: c, Encrypted: R\n",
      "Original: e, Encrypted: K\n"
     ]
    }
   ],
   "source": [
    "message = \"alice\"\n",
    "\n",
    "for i in range(len(message)):\n",
    "    print(f\"Original: {message[i]}, Encrypted: {str(alphabet[chiffer_func(alphabet.index(message[i]))]).upper()}\")"
   ]
  },
  {
   "cell_type": "markdown",
   "metadata": {},
   "source": [
    "e)"
   ]
  },
  {
   "cell_type": "code",
   "execution_count": 49,
   "metadata": {},
   "outputs": [
    {
     "name": "stdout",
     "output_type": "stream",
     "text": [
      "Original: S, Decrypted: k\n",
      "Original: I, Decrypted: r\n",
      "Original: Ø, Decrypted: y\n",
      "Original: P, Decrypted: p\n",
      "Original: B, Decrypted: t\n",
      "Original: E, Decrypted: o\n"
     ]
    }
   ],
   "source": [
    "crypt_message = \"SIØPBE\"\n",
    "crypt_message_lower = crypt_message.lower()\n",
    "\n",
    "for i in range(len(crypt_message)):\n",
    "    print(f\"Original: {crypt_message[i]}, Decrypted: {alphabet[inverse_chiffer_func(alphabet.index(crypt_message_lower[i]))]}\")"
   ]
  }
 ],
 "metadata": {
  "kernelspec": {
   "display_name": "Python 3.10.6 64-bit",
   "language": "python",
   "name": "python3"
  },
  "language_info": {
   "codemirror_mode": {
    "name": "ipython",
    "version": 3
   },
   "file_extension": ".py",
   "mimetype": "text/x-python",
   "name": "python",
   "nbconvert_exporter": "python",
   "pygments_lexer": "ipython3",
   "version": "3.10.6"
  },
  "orig_nbformat": 4,
  "vscode": {
   "interpreter": {
    "hash": "916dbcbb3f70747c44a77c7bcd40155683ae19c65e1c03b4aa3499c5328201f1"
   }
  }
 },
 "nbformat": 4,
 "nbformat_minor": 2
}
