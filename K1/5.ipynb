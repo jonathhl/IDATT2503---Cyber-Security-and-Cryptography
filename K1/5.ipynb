{
 "cells": [
  {
   "cell_type": "code",
   "execution_count": 1,
   "metadata": {},
   "outputs": [],
   "source": [
    "alphabet = ['a','b','c','d','e','f','g','h','i','j','k','l','m','n','o','p','q','r','s','t','u','v','w','x','y','z','æ','ø','å']"
   ]
  },
  {
   "cell_type": "code",
   "execution_count": 2,
   "metadata": {},
   "outputs": [],
   "source": [
    "def char_to_int(char):\n",
    "    for i in range(len(alphabet)):\n",
    "        if char == alphabet[i]: return i\n",
    "    return -1"
   ]
  },
  {
   "cell_type": "markdown",
   "metadata": {},
   "source": [
    "Task a)"
   ]
  },
  {
   "cell_type": "code",
   "execution_count": 3,
   "metadata": {},
   "outputs": [
    {
     "name": "stdout",
     "output_type": "stream",
     "text": [
      "Message: snart helg, Key: torsk\n",
      "Encrypted: IØRGAÆSÅY\n"
     ]
    }
   ],
   "source": [
    "def encryption(m, k):\n",
    "    mes = m.replace(\" \", \"\").lower()\n",
    "    str = \"\"\n",
    "    for i in range(len(mes)):\n",
    "        str += alphabet[(char_to_int(mes[i]) + char_to_int(k[i % len(k)])) % len(alphabet)]\n",
    "    return str.upper()\n",
    "\n",
    "message_a = \"snart helg\"\n",
    "key_a = \"torsk\"\n",
    "encrypted_text = encryption(message_a, key_a)\n",
    "\n",
    "print(f\"Message: {message_a}, Key: {key_a}\")\n",
    "print(f\"Encrypted: {encrypted_text}\")"
   ]
  },
  {
   "cell_type": "markdown",
   "metadata": {},
   "source": [
    "Task b)"
   ]
  },
  {
   "cell_type": "code",
   "execution_count": 4,
   "metadata": {},
   "outputs": [
    {
     "name": "stdout",
     "output_type": "stream",
     "text": [
      "Encrypted: QZQOBVCAFFKSDC, Key: brus\n",
      "Decrypted: pizzaellertaco\n"
     ]
    }
   ],
   "source": [
    "def decryption(c, k):\n",
    "    ciph = c.replace(\" \", \"\").lower()\n",
    "    str = \"\"\n",
    "    for i in range(len(ciph)):\n",
    "        str += alphabet[(char_to_int(ciph[i]) - char_to_int(k[i % len(k)])) % len(alphabet)]\n",
    "    return str.lower()\n",
    "\n",
    "encrypted_m = \"QZQOBVCAFFKSDC\"\n",
    "key_b = \"brus\"\n",
    "decrypted_text = decryption(encrypted_m, key_b)\n",
    "\n",
    "print(f\"Encrypted: {encrypted_m}, Key: {key_b}\")\n",
    "print(f\"Decrypted: {decrypted_text}\")"
   ]
  }
 ],
 "metadata": {
  "kernelspec": {
   "display_name": "Python 3.10.6 64-bit",
   "language": "python",
   "name": "python3"
  },
  "language_info": {
   "codemirror_mode": {
    "name": "ipython",
    "version": 3
   },
   "file_extension": ".py",
   "mimetype": "text/x-python",
   "name": "python",
   "nbconvert_exporter": "python",
   "pygments_lexer": "ipython3",
   "version": "3.10.6"
  },
  "orig_nbformat": 4,
  "vscode": {
   "interpreter": {
    "hash": "916dbcbb3f70747c44a77c7bcd40155683ae19c65e1c03b4aa3499c5328201f1"
   }
  }
 },
 "nbformat": 4,
 "nbformat_minor": 2
}
